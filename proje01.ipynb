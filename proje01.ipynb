{
  "nbformat": 4,
  "nbformat_minor": 0,
  "metadata": {
    "colab": {
      "name": "Untitled0.ipynb",
      "provenance": [],
      "authorship_tag": "ABX9TyPOUro4+CY3jlZdXvI4EIZm",
      "include_colab_link": true
    },
    "kernelspec": {
      "name": "python3",
      "display_name": "Python 3"
    },
    "language_info": {
      "name": "python"
    }
  },
  "cells": [
    {
      "cell_type": "markdown",
      "metadata": {
        "id": "view-in-github",
        "colab_type": "text"
      },
      "source": [
        "<a href=\"https://colab.research.google.com/github/beyzakarlixx/hu_bby162_2022/blob/main/proje01.ipynb\" target=\"_parent\"><img src=\"https://colab.research.google.com/assets/colab-badge.svg\" alt=\"Open In Colab\"/></a>"
      ]
    },
    {
      "cell_type": "code",
      "execution_count": 6,
      "metadata": {
        "colab": {
          "base_uri": "https://localhost:8080/"
        },
        "id": "8xZIFbgG3IK1",
        "outputId": "609fc9c6-abbf-4a5a-d296-211332d7f4e7"
      },
      "outputs": [
        {
          "output_type": "stream",
          "name": "stdout",
          "text": [
            "İndeks numarasını giriniz:3\n",
            "Bir sayı girdiniz.\n",
            "salam\n"
          ]
        }
      ],
      "source": [
        "liste = [ \"tavşan\", \"marul\", \"leopar\", \"salam\", \"demir\", \"tahta\"]\n",
        "while True:\n",
        "  try :\n",
        "    secim =int(input( \"İndeks numarasını giriniz:\"))\n",
        "  except ValeuError :\n",
        "    print( \"Lütfen bir sayı giriniz.\")\n",
        "    continue \n",
        "  else :\n",
        "      print( \"Bir sayı girdiniz.\")\n",
        "      break\n",
        "listeToplam =len(liste)\n",
        "\n",
        "if secim < listeToplam :\n",
        "  print(liste[secim])\n",
        "else :\n",
        "  print( \"İndeks dışı giriş.\")\n",
        "\n",
        "\n",
        "\n",
        "\n",
        "\n",
        "\n",
        "    "
      ]
    }
  ]
}