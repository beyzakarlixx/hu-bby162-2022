{
  "nbformat": 4,
  "nbformat_minor": 0,
  "metadata": {
    "colab": {
      "name": "Untitled0.ipynb",
      "provenance": [],
      "authorship_tag": "ABX9TyOR3Mk0ecZYdfgwgXl3rK5K",
      "include_colab_link": true
    },
    "kernelspec": {
      "name": "python3",
      "display_name": "Python 3"
    },
    "language_info": {
      "name": "python"
    }
  },
  "cells": [
    {
      "cell_type": "markdown",
      "metadata": {
        "id": "view-in-github",
        "colab_type": "text"
      },
      "source": [
        "<a href=\"https://colab.research.google.com/github/beyzakarlixx/hu_bby162_2022/blob/main/proje01.ipynb\" target=\"_parent\"><img src=\"https://colab.research.google.com/assets/colab-badge.svg\" alt=\"Open In Colab\"/></a>"
      ]
    },
    {
      "cell_type": "code",
      "execution_count": null,
      "metadata": {
        "id": "8xZIFbgG3IK1"
      },
      "outputs": [],
      "source": [
        "liste = [ \"tavşan\", \"marul\", \"leopar\", \"salam\", \"demir\", \"tahta\"]\n",
        "while True:\n",
        "  try :\n",
        "    secim =int(input( \"İndeks numarasını giriniz:\"))\n",
        "  except valueerror :\n",
        "    print( \"Lütfen bir sayı giriniz.\")\n",
        "    continue \n",
        "  else :\n",
        "      print( \"Bir sayı girdiniz.\")\n",
        "      break\n",
        "listeToplam =len(liste)\n",
        "\n",
        "if secim < listeToplam :\n",
        "  print(liste[secim])\n",
        "else :\n",
        "  print( \"İndeks dışı giriş.\")\n",
        "\n",
        "\n",
        "\n",
        "\n",
        "\n",
        "\n",
        "    "
      ]
    }
  ]
}