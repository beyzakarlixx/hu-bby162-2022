{
  "nbformat": 4,
  "nbformat_minor": 0,
  "metadata": {
    "colab": {
      "name": "veritabani.txt",
      "provenance": [],
      "authorship_tag": "ABX9TyPeMZ7YI2cP1+L5wNt923ly",
      "include_colab_link": true
    },
    "kernelspec": {
      "name": "python3",
      "display_name": "Python 3"
    },
    "language_info": {
      "name": "python"
    }
  },
  "cells": [
    {
      "cell_type": "markdown",
      "metadata": {
        "id": "view-in-github",
        "colab_type": "text"
      },
      "source": [
        "<a href=\"https://colab.research.google.com/github/beyzakarlixx/hu-bby162-2022/blob/main/veritabani_txt.ipynb\" target=\"_parent\"><img src=\"https://colab.research.google.com/assets/colab-badge.svg\" alt=\"Open In Colab\"/></a>"
      ]
    },
    {
      "cell_type": "code",
      "execution_count": null,
      "metadata": {
        "id": "tg2DbKxwMWOz"
      },
      "outputs": [],
      "source": [
        "1  Gavurun Dölü | Candan Özer | Panama Yayıncılık | 2015\n",
        "2  Marallar Suya İnince | FM Yayınları | 2006\n",
        "3  Momo | Michael Ende | Pegasus Yayınları | 2017 "
      ]
    }
  ]
}