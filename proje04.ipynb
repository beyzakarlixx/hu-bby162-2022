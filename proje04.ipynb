{
  "nbformat": 4,
  "nbformat_minor": 0,
  "metadata": {
    "colab": {
      "name": "Untitled6.ipynb",
      "provenance": [],
      "authorship_tag": "ABX9TyPpamWLDISiWdQiWDtv9PGn",
      "include_colab_link": true
    },
    "kernelspec": {
      "name": "python3",
      "display_name": "Python 3"
    },
    "language_info": {
      "name": "python"
    }
  },
  "cells": [
    {
      "cell_type": "markdown",
      "metadata": {
        "id": "view-in-github",
        "colab_type": "text"
      },
      "source": [
        "<a href=\"https://colab.research.google.com/github/beyzakarlixx/hu-bby162-2022/blob/main/proje04.ipynb\" target=\"_parent\"><img src=\"https://colab.research.google.com/assets/colab-badge.svg\" alt=\"Open In Colab\"/></a>"
      ]
    },
    {
      "cell_type": "code",
      "execution_count": null,
      "metadata": {
        "colab": {
          "base_uri": "https://localhost:8080/"
        },
        "id": "HTG_UIbObNBK",
        "outputId": "6d8311f9-ddcc-491a-d830-95b053f8fc19"
      },
      "outputs": [
        {
          "output_type": "stream",
          "name": "stdout",
          "text": [
            "Mounted at /content/drive\n",
            "Kütüphane Kataloğuma Hoş Geldiniz! \n",
            "\t\t\n",
            " Yapmak istediğin işlemi seçiniz:\n",
            "  \t1) Kitap Listele\n",
            "  \t2) Kitap Kaydet\n",
            "  \t3) Kitap Ara\n",
            "  \t4) Çıkış Yap\n",
            "\t\t\n"
          ]
        }
      ],
      "source": [
        "from google.colab import drive\n",
        "drive.mount('/content/drive')\n",
        "dosya = \"/content/drive/MyDrive/Colab Notebooks/veritabani.txt\"\n",
        "\n",
        "\n",
        "print(\"Kütüphane Kataloğuma Hoş Geldiniz! \")\n",
        "\n",
        "def kitapListele():\n",
        "  f = open(dosya, 'r')\n",
        "  for line in f.readlines():\n",
        "    print(line)\n",
        "  f.close()\n",
        "  menu()\n",
        "\n",
        "def kitapKaydet():\n",
        "  kitapAdi = input(\"Kitabın adını giriniz: \")\n",
        "  kitapYazari = input(\"Kitabın yazarını giriniz: \")\n",
        "  kitapYayinevi = input(\"Kitabın yayınevi bilgisini giriniz: \")\n",
        "  kitapBasimTarihi = input(\"Kitabın basım tarihini giriniz: \")\n",
        "  f = open(dosya, 'a' )\n",
        "  f.write(kitapAdi + \" | \" + kitapYazari + \" | \" + kitapYayinevi + \" | \" + kitapBasimTarihi + \" | \" +'\\n')\n",
        "  print(\"Kitap kaydını başarıyla tamamladınız\")\n",
        "  f.close()\n",
        "  menu()\n",
        "\n",
        "def kitapAra():\n",
        "  kayitAra = input(\"Arama yapmak istediğin kitabın adını giriniz: \")\n",
        "  kayit = open(dosya, \"r\")\n",
        "\n",
        "  arananKayit = kayit.read().find(kayitAra)\n",
        "  if arananKayit:\n",
        "    print(\"Aradığınız kitap kataloğumda mevcuttur.\")\n",
        "    menu()\n",
        "  else:\n",
        "    print(\"Aradığınız kitap kataloğumda yok.\")\n",
        "    menu()\n",
        "\n",
        "def cikis():\n",
        "  print(\"\\t\\t\\n Kataloğumdan çıkış yapmak istiyor musunuz?\\n \\t1) Evet\\n  \\t2) Hayır\\n\\t\\t\")\n",
        "  cikisIslem = input(\"İşlem seç: \")\n",
        "  if cikisIslem == \"2\":\n",
        "    print(\"Menüye yönlendiriliyorsunuz. Seçimini yapınız. \")\n",
        "    menu()\n",
        "  elif cikisIslem == \"1\":\n",
        "   print(\"Çıkış yapıldı.\")\n",
        "  else:\n",
        "    print(\"Yanlış bir işlem yaptınız. Sadece 1 ve 2 seçebilirsiniz. \")\n",
        "    cikis()\n",
        "\n",
        "def menu():\n",
        "  print(\"\\t\\t\\n Yapmak istediğin işlemi seçiniz:\\n  \\t1) Kitap Listele\\n  \\t2) Kitap Kaydet\\n  \\t3) Kitap Ara\\n  \\t4) Çıkış Yap\\n\\t\\t\")\n",
        "  islem = input(\"İşlem seçiniz: \")\n",
        "  if islem == \"1\":\n",
        "    kitapListele()\n",
        "  elif islem == \"2\":\n",
        "    kitapKaydet()\n",
        "  elif islem== \"3\":\n",
        "    kitapAra()\n",
        "  elif islem == \"4\":\n",
        "    cikis()\n",
        "  else:\n",
        "    print(\"Yanlış giriş yaptınız! Menüye yönlendiriliyorsunuz.\")\n",
        "    menu()\n",
        "\n",
        "menu()"
      ]
    }
  ]
}