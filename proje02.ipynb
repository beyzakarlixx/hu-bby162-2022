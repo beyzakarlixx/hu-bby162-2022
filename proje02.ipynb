{
  "nbformat": 4,
  "nbformat_minor": 0,
  "metadata": {
    "colab": {
      "name": "Untitled1.ipynb",
      "provenance": [],
      "authorship_tag": "ABX9TyM1/8ZObGjH15Z5sA1uf3R1",
      "include_colab_link": true
    },
    "kernelspec": {
      "name": "python3",
      "display_name": "Python 3"
    },
    "language_info": {
      "name": "python"
    }
  },
  "cells": [
    {
      "cell_type": "markdown",
      "metadata": {
        "id": "view-in-github",
        "colab_type": "text"
      },
      "source": [
        "<a href=\"https://colab.research.google.com/github/beyzakarlixx/hu_bby162_2022/blob/main/proje02.ipynb\" target=\"_parent\"><img src=\"https://colab.research.google.com/assets/colab-badge.svg\" alt=\"Open In Colab\"/></a>"
      ]
    },
    {
      "cell_type": "code",
      "execution_count": null,
      "metadata": {
        "colab": {
          "base_uri": "https://localhost:8080/"
        },
        "id": "X7fvtjFKpS-q",
        "outputId": "701c68ee-0057-4375-9201-7668a988c1c5"
      },
      "outputs": [
        {
          "output_type": "stream",
          "name": "stdout",
          "text": [
            "Selammm!\n",
            "Adam Asmaca Oyunuma Hoşgeldiniz!\n",
            "Seviye Basit Oyun\n",
            "muhallebi\n",
            "['_']\n"
          ]
        }
      ],
      "source": [
        "#Basit Seviye Adam Asmaca\n",
        "\n",
        "print( \"Selammm!\")\n",
        "print( \"Adam Asmaca Oyunuma Hoşgeldiniz!\")\n",
        "print( \"Seviye Basit Oyun\")\n",
        "\n",
        "from random import choice \n",
        "\n",
        "adamCan = 3\n",
        "\n",
        "kelimeler =[ \"sütlaç\", \"muhallebi\", \"kek\", \"pasta\", \"güllaç\"]\n",
        "secilenKelime =choice(kelimeler)\n",
        "print(secilenKelime)\n",
        "dizilenKelime = []\n",
        "for diz in secilenKelime:\n",
        "  dizilenKelime.append(\"_\")\n",
        "  print(dizilenKelime)\n",
        "\n",
        "  while adamCan > 0: \n",
        "    girilenHarf = input( \"Bir harf giriniz:\")\n",
        "    canKontrol = girilenHarf in secilenKelime \n",
        "    if canKontrol == False:\n",
        "      adamCan-=1\n",
        "\n",
        "    i = 0\n",
        "    for kontrol in secilenKelime:\n",
        "      if secilenKelime[i] ==girilenHarf:\n",
        "        dizilenKelime[i] =girilenHarf\n",
        "        i+=1\n",
        "        print(dizilenKelime)\n",
        "        print( \"Kalan can:\"+ str(adamCan)) \n",
        "\n",
        "\n",
        "#Orta Seviye Adam Asmaca\n",
        "print( \"Seviye Orta Oyun\")\n",
        "\n",
        "from random import choice \n",
        "\n",
        "adamCan = 4\n",
        "\n",
        "kelimeler =[ \"baklava\", \"künefe\", \"katmer\", \"tulumba\", \"lokma\"]\n",
        "secilenKelime = choice(kelimeler)\n",
        "print(secilenKelime)\n",
        "dizilenKelime = []\n",
        "for diz in secilenKelime: \n",
        "  dizilenKelime.append(\"_\")\n",
        "  print(dizilenKelime)\n",
        "\n",
        "  while adamCan > 0:\n",
        "    girilenHarf = input( \"Bir harf giriniz:\")\n",
        "    canKontrol = girilenHarf in secilenKelime\n",
        "    if canKontrol == False:\n",
        "      adamCan-= 1\n",
        "\n",
        "      i = 0\n",
        "      for kontrol in secilenKelime:\n",
        "        if secilenKelime[i] == girilenHarf:\n",
        "          dizilenKelime[i] = girilenHarf\n",
        "          i+= 1\n",
        "          print(dizilenKelime)\n",
        "          print( \"Kalan can:\" +str(adamCan))\n",
        "\n",
        "\n",
        "#İleri Seviye Adam Asmaca\n",
        "print( \"Seviye İleri Oyun\")\n",
        "\n",
        "from random import choice\n",
        "\n",
        "adamCan = 5\n",
        "kelimeler =[ \"höşmerim\", \"revani\", \"kazandibi\", \"pişmaniye\", \"şöbiyet\"]\n",
        "secilenKelime = choice(kelimeler)\n",
        "print(secilenKelime)\n",
        "dizilenKelime = []\n",
        "for diz in secilenKelime:\n",
        "  dizilenKelime.append(\"_\")\n",
        "  print(dizilenKelime)\n",
        "\n",
        "  while adamCan >0:\n",
        "    girilenHarf = input( \"Bir harf giriniz:\")\n",
        "    canKontrol = girilenHarf in secilenKelime\n",
        "    if canKontrol == False:\n",
        "      adamCan-= 1\n",
        "\n",
        "      i = 0\n",
        "      for kontrol in secilenKelime:\n",
        "        if secilenKelime[i] == girilenHarf:\n",
        "          dizilenKelime[i] = girilenHarf\n",
        "          i+= 1\n",
        "          print(dizilenKelime)\n",
        "          print( \"Kalan can:\" + str(adamCan))"
      ]
    }
  ]
}