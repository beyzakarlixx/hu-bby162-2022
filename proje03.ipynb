{
  "nbformat": 4,
  "nbformat_minor": 0,
  "metadata": {
    "colab": {
      "name": "Untitled2.ipynb",
      "provenance": [],
      "authorship_tag": "ABX9TyN3GbGSiyEy0kR+7lg/theN",
      "include_colab_link": true
    },
    "kernelspec": {
      "name": "python3",
      "display_name": "Python 3"
    },
    "language_info": {
      "name": "python"
    }
  },
  "cells": [
    {
      "cell_type": "markdown",
      "metadata": {
        "id": "view-in-github",
        "colab_type": "text"
      },
      "source": [
        "<a href=\"https://colab.research.google.com/github/beyzakarlixx/hu_bby162_2022/blob/main/proje03.ipynb\" target=\"_parent\"><img src=\"https://colab.research.google.com/assets/colab-badge.svg\" alt=\"Open In Colab\"/></a>"
      ]
    },
    {
      "cell_type": "code",
      "execution_count": null,
      "metadata": {
        "colab": {
          "base_uri": "https://localhost:8080/"
        },
        "id": "dmtxsuBeC6ci",
        "outputId": "e5c261b6-24c0-4774-f854-a9cad105790e"
      },
      "outputs": [
        {
          "output_type": "stream",
          "name": "stdout",
          "text": [
            "Selamm, teste hoşgeldiniz!\n",
            "Her soru 20 puan değerindedir.\n",
            "Cevaplarınızı 'true' veya 'false' olarak giriniz.\n",
            "Başarılar Dilerimm!\n",
            "1.soru:Erginlik 18 yaşın doldurulmasından sonra başlar.\n"
          ]
        }
      ],
      "source": [
        "print( \"Selamm, teste hoşgeldiniz!\")\n",
        "print( \"Her soru 20 puan değerindedir.\")\n",
        "print( \"Cevaplarınızı 'true' veya 'false' olarak giriniz.\")\n",
        "print( \"Başarılar Dilerimm!\")\n",
        "\n",
        "puan = 0\n",
        "\n",
        "sorular = [ \"Erginlik 18 yaşın doldurulmasından sonra başlar.\", \"Üçgenin iç açılarının toplamı 180 derecedir.\", \"Isparta gülüyle meşhurdur.\", \"Ay Dünyanın uydusudur.\", \"Türkiye 4 mevsimi de yaşamaktadır.\"]\n",
        "cevaplar =[ \"true\", \"true\", \"false\", \"true\", \"false\"]\n",
        "\n",
        "print(\"1.soru:\"+ sorular[0])\n",
        "cevap = input(\"Cevabınız:\")\n",
        "if cevap == cevaplar[0]:\n",
        "  print(\"Doğru Cevap!\")\n",
        "  puan += 20\n",
        "else:\n",
        "    print( \"Yanlış Cevap!\")\n",
        "\n",
        "print(\"2.soru:\"+ sorular[1])\n",
        "cevap = input(\"Cevabınız:\")\n",
        "if cevap == cevaplar[1]:\n",
        "  print(\"Doğru Cevap!\")\n",
        "  puan += 20\n",
        "else:\n",
        "    print( \"Yanlış Cevap!\")\n",
        "\n",
        "print(\"3.soru:\"+ sorular[2])\n",
        "cevap = input(\"Cevabınız:\")\n",
        "if cevap == cevaplar[2]:\n",
        "  print(\"Doğru Cevap!\")\n",
        "  puan += 20\n",
        "else:\n",
        "    print( \"Yanlış Cevap!\")\n",
        "\n",
        "print(\"4.soru:\"+ sorular[3])\n",
        "cevap = input(\"Cevabınız:\")\n",
        "if cevap == cevaplar[3]:\n",
        "  print(\"Doğru Cevap!\")\n",
        "else:\n",
        "    print(\"Yanlış Cevap!\")\n",
        "\n",
        "print(\"5.soru:\"+ sorular[4])\n",
        "cevap = input(\"Cevabınız:\")\n",
        "if cevap == cevaplar[4]:\n",
        "  print( \"Doğru Cevap!\")\n",
        "else:\n",
        "    print( \"Yanlış Cevap!\")\n",
        "\n",
        "\n",
        "if puan >=60:\n",
        "  print(\"Tebrik Ederim! Testi Geçtiniz.\")\n",
        "  print(puan)\n",
        "else:\n",
        "  print(\"Üzgünüm! Kaldınız.\")\n",
        "\n",
        "  soru =( \"Testi Tekrar Etmek İster Misiniz:\")\n",
        "  cevabınız = ( \"evet\", \"hayır\")\n",
        "  print(soru)\n",
        "  cevap = input( \"Cevabınız:\")\n",
        "if cevap == cevabınız[0]:\n",
        "  print( \"Başarılar Dilerimm!\")\n",
        "else:\n",
        "  print( \"İyi Günler!\")\n",
        "    \n"
      ]
    }
  ]
}