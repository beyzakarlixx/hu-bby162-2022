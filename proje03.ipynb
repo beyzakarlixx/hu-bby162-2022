{
  "nbformat": 4,
  "nbformat_minor": 0,
  "metadata": {
    "colab": {
      "name": "Untitled2.ipynb",
      "provenance": [],
      "authorship_tag": "ABX9TyOpHoF+Z6bY32Pp64rt35Aw",
      "include_colab_link": true
    },
    "kernelspec": {
      "name": "python3",
      "display_name": "Python 3"
    },
    "language_info": {
      "name": "python"
    }
  },
  "cells": [
    {
      "cell_type": "markdown",
      "metadata": {
        "id": "view-in-github",
        "colab_type": "text"
      },
      "source": [
        "<a href=\"https://colab.research.google.com/github/beyzakarlixx/hu_bby162_2022/blob/main/proje03.ipynb\" target=\"_parent\"><img src=\"https://colab.research.google.com/assets/colab-badge.svg\" alt=\"Open In Colab\"/></a>"
      ]
    },
    {
      "cell_type": "code",
      "execution_count": null,
      "metadata": {
        "colab": {
          "base_uri": "https://localhost:8080/"
        },
        "id": "dmtxsuBeC6ci",
        "outputId": "d78af2b6-66dc-4153-c1b9-f8e66540e7e0"
      },
      "outputs": [
        {
          "metadata": {
            "tags": null
          },
          "name": "stdout",
          "output_type": "stream",
          "text": [
            "Selamm, teste hoşgeldiniz!\n",
            "Her soru 20 puan değerindedir.\n",
            "Cevaplarınızı 'true' veya 'false' olarak giriniz.\n",
            "Başarılar Dilerimm!\n",
            "1.soru:Erginlik 18 yaşın doldurulmasından sonra başlar.\n"
          ]
        }
      ],
      "source": [
        "print( \"Selamm, teste hoşgeldiniz!\")\n",
        "print( \"Her soru 20 puan değerindedir.\")\n",
        "print( \"Cevaplarınızı 'true' veya 'false' olarak giriniz.\")\n",
        "print( \"Başarılar Dilerimm!\")\n",
        "\n",
        "puan = 0\n",
        "\n",
        "sorular = [ \"Erginlik 18 yaşın doldurulmasından sonra başlar.\", \"Üçgenin iç açılarının toplamı 180 derecedir.\", \"Isparta gülüyle meşhurdur.\", \"Ay Dünyanın uydusudur.\", \"Türkiye 4 mevsimi de yaşamaktadır.\"]\n",
        "cevaplar =[ \"true\", \"true\", \"false\", \"true\", \"false\"]\n",
        "\n",
        "print(\"1.soru:\"+ sorular[0])\n",
        "cevap = input(\"Cevabınız:\")\n",
        "if cevap == cevaplar[0]:\n",
        "  print(\"Doğru Cevap!\")\n",
        "  puan += 20\n",
        "else:\n",
        "    print( \"Yanlış Cevap!\")\n",
        "\n",
        "print(\"2.soru:\"+ sorular[1])\n",
        "cevap = input(\"Cevabınız:\")\n",
        "if cevap == cevaplar[1]:\n",
        "  print(\"Doğru Cevap!\")\n",
        "  puan += 20\n",
        "else:\n",
        "    print( \"Yanlış Cevap!\")\n",
        "\n",
        "print(\"3.soru:\"+ sorular[2])\n",
        "cevap = input(\"Cevabınız:\")\n",
        "if cevap == cevaplar[2]:\n",
        "  print(\"Doğru Cevap!\")\n",
        "  puan += 20\n",
        "else:\n",
        "    print( \"Yanlış Cevap!\")\n",
        "\n",
        "print(\"4.soru:\"+ sorular[3])\n",
        "cevap = input(\"Cevabınız:\")\n",
        "if cevap == cevaplar[3]:\n",
        "  print(\"Doğru Cevap!\")\n",
        "else:\n",
        "    print(\"Yanlış Cevap!\")\n",
        "\n",
        "print(\"5.soru:\"+ sorular[4])\n",
        "cevap = input(\"Cevabınız:\")\n",
        "if cevap == cevaplar[4]:\n",
        "  print( \"Doğru Cevap!\")\n",
        "else:\n",
        "    print( \"Yanlış Cevap!\")\n",
        "\n",
        "\n",
        "if puan == 0:\n",
        "  print(\"0 doğru = 0 puan\")\n",
        "  print(\"Kaldınız.\")\n",
        "  tekrar = input(\"Tekrar çözmek ister misiniz? - evet/hayır\")\n",
        "  if tekrar == evet:\n",
        "    print(\"Başarılar Dilerim!\")\n",
        "  elif tekrar == hayır:\n",
        "   print(\"Hoşçakalınız!\")\n",
        "\n",
        "elif puan == 20:\n",
        "  print(\"4 yanlış, 1 doğru = 20 puan\")\n",
        "  print(\"Kaldınız.\")\n",
        "  tekrar == input(\"Tekrar çözmek ister misiniz? - evet/hayır\")\n",
        "  if tekrar == evet:\n",
        "    print(\"Başarılar Dilerim!\")\n",
        "  elif tekrar == hayır:\n",
        "    print(\"Hoşçakalınız!\")\n",
        "\n",
        "elif puan == 40:\n",
        "  print(\"3 yanlış, 2 doğru = 40 puan\")\n",
        "  print(\"Kaldınız.\")\n",
        "  tekrar == input(\"Tekrar çözmek ister misiniz? - evet/hayır\")\n",
        "  if tekrar == evet:\n",
        "    print(\"Başarılar Dilerim!\")\n",
        "  elif tekrar == hayır:\n",
        "    print( \"Hoşçakalınız!\")\n",
        "\n",
        "elif puan == 60:\n",
        "   print(\"2 yanlış, 3 doğru = 60 puan\")\n",
        "   print(\"TEBRİK EDERİM! Geçtiniz.\")\n",
        "\n",
        "elif puan == 80:\n",
        "   print(\"1 yanlış, 4 doğru  = 80 puan\")\n",
        "   print(\"TEBRİK EDERİM! Geçtiniz.\")\n",
        "\n",
        "elif puan ==100:\n",
        "   print(\"0 yanlış, 5 doğru = 100 puan\")\n",
        "   print(\"TEBRİK EDERİM! Tam Puanla Testi Geçtiniz.\")\n",
        "\n",
        "\n",
        "\n",
        "     \n",
        "    \n"
      ]
    }
  ]
}